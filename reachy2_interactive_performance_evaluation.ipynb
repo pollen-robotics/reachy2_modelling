{
 "cells": [
  {
   "cell_type": "code",
   "execution_count": 1,
   "id": "42800120-bf76-4256-8d5e-89e7b401d711",
   "metadata": {},
   "outputs": [],
   "source": [
    "import pinocchio as pin\n",
    "import numpy as np\n",
    "import time\n",
    "import scipy\n",
    "from example_robot_data import load\n",
    "\n",
    "## visualise the robot\n",
    "from pinocchio.visualize import MeshcatVisualizer\n",
    "\n",
    "## visualise the polytope and the ellipsoid\n",
    "import meshcat.geometry as g \n",
    "\n",
    "# import pycapacity \n",
    "import pycapacity as pycap"
   ]
  },
  {
   "cell_type": "code",
   "execution_count": 2,
   "id": "0964f6aa-cb67-472c-8e9a-fa7346929cae",
   "metadata": {},
   "outputs": [],
   "source": [
    "# use reachy's right arm with only 4 joints for now as they are the contribute \n",
    "# to its force capacity the most\n",
    "urdf_path = 'orbita2d.urdf'\n",
    "robot = pin.RobotWrapper.BuildFromURDF(urdf_path)\n",
    "model, data = robot.model, robot.data"
   ]
  },
  {
   "cell_type": "code",
   "execution_count": 3,
   "id": "518453f6-61d4-4f8b-94be-2d9dd4a53a43",
   "metadata": {},
   "outputs": [],
   "source": [
    "# use reachy's right arm with only 4 joints for now as they are the contribute \n",
    "# to its force capacity the most\n",
    "urdf_path = 'reachy.urdf'\n",
    "robot = pin.RobotWrapper.BuildFromURDF(urdf_path)\n",
    "model, data = robot.model, robot.data\n",
    "# lock the other joints\n",
    "tolock = [\n",
    "    'l_shoulder_pitch',\n",
    "    'l_shoulder_roll',\n",
    "    'l_elbow_yaw',\n",
    "    'l_elbow_pitch',\n",
    "    'l_wrist_roll',\n",
    "    'l_wrist_pitch',\n",
    "    'l_wrist_yaw',\n",
    "    'l_hand_finger',\n",
    "    'l_hand_finger_mimic',\n",
    "    'r_wrist_roll',\n",
    "    'r_wrist_pitch',\n",
    "    'r_wrist_yaw',\n",
    "    'r_hand_finger',\n",
    "    'r_hand_finger_mimic',\n",
    "    'neck_roll',\n",
    "    'neck_pitch',\n",
    "    'neck_yaw',\n",
    "]\n",
    "\n",
    "# Get the ID of all existing joints\n",
    "jointsToLockIDs = []\n",
    "for jn in tolock:\n",
    "    if model.existJointName(jn):\n",
    "        jointsToLockIDs.append(model.getJointId(jn))\n",
    "robot.model = pin.buildReducedModel(model, jointsToLockIDs, np.zeros(21))\n",
    "model, data = robot.model, robot.data"
   ]
  },
  {
   "cell_type": "code",
   "execution_count": 4,
   "id": "e058a809-244c-4b4c-8175-ae13e5cc95a5",
   "metadata": {},
   "outputs": [],
   "source": [
    "def jacobian(q, tip = robot.model.frames[-1].name):\n",
    "    joint_id = model.getFrameId(tip)\n",
    "    # joint_id = robot.model.getFrameId(\"r_wrist_ball_link\")\n",
    "    # joint_id =  model.getFrameId(robot.model.frames[-1].name)\n",
    "    J = pin.computeFrameJacobian(robot.model,\n",
    "                                       robot.data,\n",
    "                                       q,\n",
    "                                       joint_id,\n",
    "                                       reference_frame=pin.LOCAL_WORLD_ALIGNED)[:3,:]\n",
    "    u,s,v = np.linalg.svd(J)\n",
    "    # print(J)\n",
    "    return s\n",
    "\n",
    "def dk(q, tip = robot.model.frames[-1].name):\n",
    "    # joint_id =  robot.model.getFrameId(robot.model.frames[-1].name)\n",
    "    joint_id = robot.model.getFrameId(tip)\n",
    "    pin.framesForwardKinematics(robot.model, robot.data, q)\n",
    "    return robot.data.oMf[robot.model.getFrameId(tip)].translation.copy()"
   ]
  },
  {
   "cell_type": "code",
   "execution_count": 5,
   "id": "b622ec23-f727-4f67-8d67-04a1c9b827d4",
   "metadata": {},
   "outputs": [
    {
     "name": "stdout",
     "output_type": "stream",
     "text": [
      "You can open the visualizer by visiting the following URL:\n",
      "http://127.0.0.1:7003/static/\n"
     ]
    },
    {
     "data": {
      "text/html": [
       "\n",
       "            <div style=\"height: 400px; width: 100%; overflow-x: auto; overflow-y: hidden; resize: both\">\n",
       "            <iframe src=\"http://127.0.0.1:7003/static/\" style=\"width: 100%; height: 100%; border: none\"></iframe>\n",
       "            </div>\n",
       "            "
      ],
      "text/plain": [
       "<IPython.core.display.HTML object>"
      ]
     },
     "execution_count": 5,
     "metadata": {},
     "output_type": "execute_result"
    }
   ],
   "source": [
    "data = robot.model.createData()\n",
    "\n",
    "# get joint position ranges\n",
    "q_max = robot.model.upperPositionLimit.T\n",
    "q_min = robot.model.lowerPositionLimit.T\n",
    "dq_max = np.ones(robot.nq)\n",
    "dq_min = -dq_max\n",
    "# get max velocity\n",
    "t_max = np.ones(robot.nq)*4 # amps\n",
    "t_min = -t_max\n",
    "\n",
    "# Use robot configuration.\n",
    "# q0 = np.random.uniform(q_min,q_max)\n",
    "q = (q_min+q_max)/2\n",
    "\n",
    "viz = MeshcatVisualizer(robot.model, robot.collision_model, robot.visual_model)\n",
    "# Start a new MeshCat server and client.\n",
    "viz.initViewer(open=True)\n",
    "# Load the robot in the viewer.\n",
    "viz.loadViewerModel()\n",
    "viz.display(q)\n",
    "# small time window for loading the model \n",
    "# if meshcat does not visualise the robot properly, augment the time\n",
    "# it can be removed in most cases\n",
    "time.sleep(0.2) \n",
    "\n",
    "viz.viewer.jupyter_cell()"
   ]
  },
  {
   "cell_type": "code",
   "execution_count": 6,
   "id": "9903f3dd-af20-4af8-9807-8dbdda21d222",
   "metadata": {
    "jupyter": {
     "source_hidden": true
    }
   },
   "outputs": [
    {
     "data": {
      "application/vnd.jupyter.widget-view+json": {
       "model_id": "6cdc912a010a406e9a29772c37c93a20",
       "version_major": 2,
       "version_minor": 0
      },
      "text/plain": [
       "interactive(children=(FloatSlider(value=0.0, description='q[0]', max=1.5707963267948966, min=-1.57079632679489…"
      ]
     },
     "metadata": {},
     "output_type": "display_data"
    }
   ],
   "source": [
    "from ipywidgets import interact, FloatSlider\n",
    "kwargs = {'q[{}]'.format(i) : \n",
    "          FloatSlider(\n",
    "              min = q_min[i], \n",
    "              max = q_max[i], \n",
    "              step = 0.01, \n",
    "              value = q[i],\n",
    "              continuous_update=True) \n",
    "          for i,q_1 in enumerate(q)}\n",
    "@interact(**kwargs)\n",
    "def update(**kwargs):\n",
    "    q = np.array([v  for v in kwargs.values()])\n",
    "    viz.display(q)\n",
    "    print(jacobian(q))"
   ]
  },
  {
   "cell_type": "code",
   "execution_count": 7,
   "id": "2094db4b-d6d9-4965-b1a0-fba113c49d42",
   "metadata": {},
   "outputs": [
    {
     "ename": "ValueError",
     "evalue": "wrong argument size: expected 4, got 2\nhint: The configuration vector is not of right size\n",
     "output_type": "error",
     "traceback": [
      "\u001b[0;31m---------------------------------------------------------------------------\u001b[0m",
      "\u001b[0;31mValueError\u001b[0m                                Traceback (most recent call last)",
      "Cell \u001b[0;32mIn[7], line 6\u001b[0m\n\u001b[1;32m      4\u001b[0m     \u001b[38;5;28;01mfor\u001b[39;00m b \u001b[38;5;129;01min\u001b[39;00m np\u001b[38;5;241m.\u001b[39mlinspace(\u001b[38;5;241m-\u001b[39mnp\u001b[38;5;241m.\u001b[39mpi,np\u001b[38;5;241m.\u001b[39mpi,N):\n\u001b[1;32m      5\u001b[0m         q \u001b[38;5;241m=\u001b[39m np\u001b[38;5;241m.\u001b[39marray([a,b])\n\u001b[0;32m----> 6\u001b[0m         s_vals\u001b[38;5;241m.\u001b[39mappend(\u001b[43mjacobian\u001b[49m\u001b[43m(\u001b[49m\u001b[43mq\u001b[49m\u001b[43m)\u001b[49m)\n\u001b[1;32m      7\u001b[0m         pos\u001b[38;5;241m.\u001b[39mappend(dk(q))\n\u001b[1;32m      9\u001b[0m s_vals\u001b[38;5;241m=\u001b[39m np\u001b[38;5;241m.\u001b[39marray(s_vals)\n",
      "Cell \u001b[0;32mIn[4], line 5\u001b[0m, in \u001b[0;36mjacobian\u001b[0;34m(q, tip)\u001b[0m\n\u001b[1;32m      2\u001b[0m joint_id \u001b[38;5;241m=\u001b[39m model\u001b[38;5;241m.\u001b[39mgetFrameId(tip)\n\u001b[1;32m      3\u001b[0m \u001b[38;5;66;03m# joint_id = robot.model.getFrameId(\"r_wrist_ball_link\")\u001b[39;00m\n\u001b[1;32m      4\u001b[0m \u001b[38;5;66;03m# joint_id =  model.getFrameId(robot.model.frames[-1].name)\u001b[39;00m\n\u001b[0;32m----> 5\u001b[0m J \u001b[38;5;241m=\u001b[39m \u001b[43mpin\u001b[49m\u001b[38;5;241;43m.\u001b[39;49m\u001b[43mcomputeFrameJacobian\u001b[49m\u001b[43m(\u001b[49m\u001b[43mrobot\u001b[49m\u001b[38;5;241;43m.\u001b[39;49m\u001b[43mmodel\u001b[49m\u001b[43m,\u001b[49m\n\u001b[1;32m      6\u001b[0m \u001b[43m                                   \u001b[49m\u001b[43mrobot\u001b[49m\u001b[38;5;241;43m.\u001b[39;49m\u001b[43mdata\u001b[49m\u001b[43m,\u001b[49m\n\u001b[1;32m      7\u001b[0m \u001b[43m                                   \u001b[49m\u001b[43mq\u001b[49m\u001b[43m,\u001b[49m\n\u001b[1;32m      8\u001b[0m \u001b[43m                                   \u001b[49m\u001b[43mjoint_id\u001b[49m\u001b[43m,\u001b[49m\n\u001b[1;32m      9\u001b[0m \u001b[43m                                   \u001b[49m\u001b[43mreference_frame\u001b[49m\u001b[38;5;241;43m=\u001b[39;49m\u001b[43mpin\u001b[49m\u001b[38;5;241;43m.\u001b[39;49m\u001b[43mLOCAL_WORLD_ALIGNED\u001b[49m\u001b[43m)\u001b[49m[:\u001b[38;5;241m3\u001b[39m,:]\n\u001b[1;32m     10\u001b[0m u,s,v \u001b[38;5;241m=\u001b[39m np\u001b[38;5;241m.\u001b[39mlinalg\u001b[38;5;241m.\u001b[39msvd(J)\n\u001b[1;32m     11\u001b[0m \u001b[38;5;66;03m# print(J)\u001b[39;00m\n",
      "\u001b[0;31mValueError\u001b[0m: wrong argument size: expected 4, got 2\nhint: The configuration vector is not of right size\n"
     ]
    }
   ],
   "source": [
    "s_vals, pos = [], [] \n",
    "N = 40\n",
    "for a in np.linspace(-np.pi/2,np.pi/2,N):\n",
    "    for b in np.linspace(-np.pi,np.pi,N):\n",
    "        q = np.array([a,b])\n",
    "        s_vals.append(jacobian(q))\n",
    "        pos.append(dk(q))\n",
    "        \n",
    "s_vals= np.array(s_vals)\n",
    "pos= np.array(pos)\n",
    "s_v = s_vals[:,0]*s_vals[:,1]\n",
    "s_max = np.max(s_v)"
   ]
  },
  {
   "cell_type": "code",
   "execution_count": null,
   "id": "94f489ca-1fce-403b-af4b-5574e19cbea9",
   "metadata": {},
   "outputs": [],
   "source": [
    "s_vals, pos = [], [] \n",
    "N = 30\n",
    "for a in np.linspace(q_min[0],q_max[0],N):\n",
    "    for b in np.linspace(q_min[1],q_max[1],N):\n",
    "        for d in np.linspace(q_min[2],q_max[2],N):\n",
    "            for e in np.linspace(q_min[3],q_max[3],N):\n",
    "                q = np.array([a,b,d,e])\n",
    "                s_vals.append(jacobian(q, tip=\"r_wrist_ball_link\"))\n",
    "                pos.append(dk(q, tip=\"r_wrist_ball_link\"))\n",
    "\n",
    "s_vals = np.array(s_vals)\n",
    "pos = np.array(pos)\n",
    "s_v = s_vals[:,0]*s_vals[:,1]*s_vals[:,2]#*s_vals[:,3]\n",
    "s_max = np.max(s_v)"
   ]
  },
  {
   "cell_type": "code",
   "execution_count": null,
   "id": "1ff9300a-c1b0-4661-904c-a7fdc4fdf2c8",
   "metadata": {},
   "outputs": [],
   "source": [
    "import matplotlib.pyplot as plt\n",
    "\n",
    "s_lost_dofs = s_vals.copy()\n",
    "s_lost_dofs[s_vals>=0.05] = 0\n",
    "s_lost_dofs[s_vals< 0.05] = 1\n",
    "s_lost_dofs = np.sum(s_lost_dofs,axis=1)\n",
    "\n",
    "%matplotlib widget\n",
    "fig = plt.figure(figsize=plt.figaspect(0.5))\n",
    "ax1 = fig.add_subplot(1, 2, 1, projection='3d')\n",
    "sc = ax1.scatter(pos[:,0],pos[:,1],pos[:,2], 'o', c=robot.nq-s_lost_dofs, cmap = 'RdYlGn')\n",
    "ax1.plot(0,-0.2,1,'bo',markersize=10)\n",
    "plt.colorbar(sc)\n",
    "\n",
    "ax2 = fig.add_subplot(1, 2, 2, projection='3d')\n",
    "sc = ax2.scatter(pos[:,0],pos[:,1],pos[:,2], 'o', c=s_v/s_max, cmap = 'RdYlGn')\n",
    "plt.colorbar(sc)\n",
    "ax2.legend()\n",
    "\n",
    "\n",
    "# Function to synchronize views between subplots\n",
    "def on_move(event):\n",
    "    if event.inaxes == ax1:\n",
    "        ax2.view_init(elev=ax1.elev, azim=ax1.azim)\n",
    "    elif event.inaxes == ax2:\n",
    "        ax1.view_init(elev=ax2.elev, azim=ax2.azim)\n",
    "    fig.canvas.draw_idle()\n",
    "    \n",
    "\n",
    "# Connect the event handler\n",
    "fig.canvas.mpl_connect('motion_notify_event', on_move)"
   ]
  },
  {
   "cell_type": "code",
   "execution_count": null,
   "id": "bc9c3664-96ce-455f-8e6a-c5a890e962dc",
   "metadata": {},
   "outputs": [],
   "source": [
    "# Visualize the point cloud\n",
    "p = np.array([[1.0,1.0,1.0],[1.0,1.0,0.0],[0.0,1.0,1.0],[1.0,0.0,1.0]]) \n",
    "# viz.viewer[\"point_cloud\"].set_object(g.PointCloud(position=p.T, color=p.T,size=0.1))\n",
    "viz.viewer[\"point_cloud\"].set_object(g.PointCloud(position=pos.T, color=np.array([1-s_v/s_max, s_v/s_max, np.zeros_like(s_v)]),size=0.01))"
   ]
  }
 ],
 "metadata": {
  "kernelspec": {
   "display_name": "Python 3 (ipykernel)",
   "language": "python",
   "name": "python3"
  },
  "language_info": {
   "codemirror_mode": {
    "name": "ipython",
    "version": 3
   },
   "file_extension": ".py",
   "mimetype": "text/x-python",
   "name": "python",
   "nbconvert_exporter": "python",
   "pygments_lexer": "ipython3",
   "version": "3.11.9"
  }
 },
 "nbformat": 4,
 "nbformat_minor": 5
}
