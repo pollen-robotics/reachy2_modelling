{
 "cells": [
  {
   "cell_type": "code",
   "execution_count": 1,
   "id": "6f87172b-afe0-444e-bf95-1ad2b3055d58",
   "metadata": {},
   "outputs": [],
   "source": [
    "import pinocchio as pin\n",
    "import numpy as np\n",
    "import time\n",
    "import scipy\n",
    "from example_robot_data import load\n",
    "\n",
    "## visualise the robot\n",
    "from pinocchio.visualize import MeshcatVisualizer\n",
    "\n",
    "## visualise the polytope and the ellipsoid\n",
    "import meshcat.geometry as g \n",
    "\n",
    "# import pycapacity \n",
    "import pycapacity as pycap"
   ]
  },
  {
   "cell_type": "code",
   "execution_count": 2,
   "id": "817c7e85-5940-4cdd-96fd-9910a817d502",
   "metadata": {},
   "outputs": [],
   "source": [
    "## from datasheet https://www.maxongroup.com/medias/sys_master/root/8882563907614/EN-21-300.pdf\n",
    "# Coefficients for the motors\n",
    "R_A1 = 35   # Coefficient for motor A related to pitch\n",
    "R_A2 = 1.9  # Coefficient for motor A related to roll\n",
    "R_B1 = 35   # Coefficient for motor B related to pitch\n",
    "R_B2 = 1.9  # Coefficient for motor B related to roll\n",
    "\n",
    "current_nominal = 3.96 # Nominal current\n",
    "rendement = 0.93 * 0.8\n",
    "couple_nominal = 0.167 * rendement / current_nominal\n",
    "\n",
    "# orbita2d kinematics matrix\n",
    "W = np.array([[R_A1 * R_A2, R_B1 * R_B2], [R_A1 * R_A2, -R_B1 * R_B2]])*couple_nominal\n",
    "W_inv = np.linalg.inv(W)\n",
    "W_inv = scipy.linalg.block_diag(W_inv,W_inv)"
   ]
  },
  {
   "cell_type": "code",
   "execution_count": 3,
   "id": "dbc54f4b-20d9-465e-9cc6-dcd79593e17c",
   "metadata": {},
   "outputs": [],
   "source": [
    "# function visualising the polutope in meshcat\n",
    "def visualise_polytope(q):\n",
    "    # calculate the jacobian\n",
    "    pin.framesForwardKinematics(robot.model,data,q)\n",
    "    pin.computeJointJacobians(robot.model,data, q)\n",
    "    J = pin.getFrameJacobian(robot.model, data, robot.model.getFrameId(robot.model.frames[-1].name), pin.LOCAL_WORLD_ALIGNED)\n",
    "    # use only position jacobian\n",
    "    J = J[:3,:]\n",
    "    \n",
    "    # end-effector pose\n",
    "    Xee = data.oMf[robot.model.getFrameId(robot.model.frames[-1].name)]\n",
    "    \n",
    "    \n",
    "    # calculate the polytope\n",
    "    opt = {'calculate_faces':True}\n",
    "    # calculate the polytope\n",
    "    for_poly = pycap.robot.force_polytope(J, 2*t_min*R_A1*R_A2*couple_nominal, 2*t_max*R_A1*R_A2*couple_nominal,options=opt)\n",
    "    # meshcat triangulated mesh\n",
    "    poly = g.TriangularMeshGeometry(vertices=for_poly.vertices.T/500 + Xee.translation, faces=for_poly.face_indices)\n",
    "    viz.viewer['poly'].set_object(poly, g.MeshBasicMaterial(color=0x0022ff, wireframe=True, linewidth=3, opacity=0.2))\n",
    "    \n",
    "    # calculate the polytope\n",
    "    opt = {'calculate_faces':True}\n",
    "    # calculate the polytope\n",
    "    for_poly = pycap.robot.force_polytope(J@W_inv.T, t_min, t_max,options=opt)\n",
    "    # meshcat triangulated mesh\n",
    "    poly = g.TriangularMeshGeometry(vertices=for_poly.vertices.T/500 + Xee.translation, faces=for_poly.face_indices)\n",
    "    viz.viewer['poly2'].set_object(poly, g.MeshBasicMaterial(color=0xff2200, wireframe=True, linewidth=3, opacity=0.2))\n",
    "\n",
    "\n",
    "    for_poly_z = pycap.robot.force_polytope(J[2,:].reshape(1,-1), 2*t_min*R_A1*R_A2*couple_nominal, 2*t_max*R_A1*R_A2*couple_nominal,options=opt)\n",
    "    for_poly1_z = pycap.robot.force_polytope((J@W_inv.T)[2,:].reshape(1,-1), t_min, t_max,options=opt)\n",
    "    print(f\"How many kilos can Reachy carry?\\nindependent axis\\t{np.max(for_poly_z.vertices)/ 9.81:.2f}kg\\ncoupled axis\\t\\t{np.max(for_poly1_z.vertices)/ 9.81:.2f}kg\" )"
   ]
  },
  {
   "cell_type": "code",
   "execution_count": 4,
   "id": "d1b7e24a-5a1a-4fcc-8229-36787d1832dc",
   "metadata": {},
   "outputs": [],
   "source": [
    "# use reachy's right arm with only 4 joints for now as they are the contribute \n",
    "# to its force capacity the most\n",
    "urdf_path = 'reachy.urdf'\n",
    "robot = pin.RobotWrapper.BuildFromURDF(urdf_path)\n",
    "model, data = robot.model, robot.data\n",
    "# lock the other joints\n",
    "tolock = [\n",
    "    'l_shoulder_pitch',\n",
    "    'l_shoulder_roll',\n",
    "    'l_elbow_yaw',\n",
    "    'l_elbow_pitch',\n",
    "    'l_wrist_roll',\n",
    "    'l_wrist_pitch',\n",
    "    'l_wrist_yaw',\n",
    "    'l_hand_finger',\n",
    "    'l_hand_finger_mimic',\n",
    "    'r_wrist_roll',\n",
    "    'r_wrist_pitch',\n",
    "    'r_wrist_yaw',\n",
    "    'r_hand_finger',\n",
    "    'r_hand_finger_mimic',\n",
    "    'neck_roll',\n",
    "    'neck_pitch',\n",
    "    'neck_yaw',\n",
    "]\n",
    "\n",
    "# Get the ID of all existing joints\n",
    "jointsToLockIDs = []\n",
    "for jn in tolock:\n",
    "    if model.existJointName(jn):\n",
    "        jointsToLockIDs.append(model.getJointId(jn))\n",
    "robot.model = pin.buildReducedModel(model, jointsToLockIDs, np.zeros(21))"
   ]
  },
  {
   "cell_type": "code",
   "execution_count": 5,
   "id": "fba564f4-4e74-4c4b-ad8a-753f9de06cce",
   "metadata": {},
   "outputs": [
    {
     "name": "stdout",
     "output_type": "stream",
     "text": [
      "You can open the visualizer by visiting the following URL:\n",
      "http://127.0.0.1:7000/static/\n"
     ]
    },
    {
     "data": {
      "text/html": [
       "\n",
       "            <div style=\"height: 400px; width: 100%; overflow-x: auto; overflow-y: hidden; resize: both\">\n",
       "            <iframe src=\"http://127.0.0.1:7000/static/\" style=\"width: 100%; height: 100%; border: none\"></iframe>\n",
       "            </div>\n",
       "            "
      ],
      "text/plain": [
       "<IPython.core.display.HTML object>"
      ]
     },
     "execution_count": 5,
     "metadata": {},
     "output_type": "execute_result"
    }
   ],
   "source": [
    "data = robot.model.createData()\n",
    "\n",
    "# get joint position ranges\n",
    "q_max = robot.model.upperPositionLimit.T\n",
    "q_min = robot.model.lowerPositionLimit.T\n",
    "# get max velocity\n",
    "t_max = np.ones(robot.nq)*4 # amps\n",
    "t_min = -t_max\n",
    "\n",
    "# Use robot configuration.\n",
    "# q0 = np.random.uniform(q_min,q_max)\n",
    "q = (q_min+q_max)/2\n",
    "\n",
    "viz = MeshcatVisualizer(robot.model, robot.collision_model, robot.visual_model)\n",
    "# Start a new MeshCat server and client.\n",
    "viz.initViewer(open=True)\n",
    "# Load the robot in the viewer.\n",
    "viz.loadViewerModel()\n",
    "viz.display(q)\n",
    "# small time window for loading the model \n",
    "# if meshcat does not visualise the robot properly, augment the time\n",
    "# it can be removed in most cases\n",
    "time.sleep(0.2) \n",
    "\n",
    "viz.viewer.jupyter_cell()"
   ]
  },
  {
   "cell_type": "code",
   "execution_count": 6,
   "id": "658810ec-24d0-4ee6-8218-9088c9707471",
   "metadata": {
    "jupyter": {
     "source_hidden": true
    }
   },
   "outputs": [
    {
     "data": {
      "application/vnd.jupyter.widget-view+json": {
       "model_id": "9eaa26e62fe9457fae8003b28d3bb76d",
       "version_major": 2,
       "version_minor": 0
      },
      "text/plain": [
       "interactive(children=(FloatSlider(value=0.0, description='q[0]', max=1.5707963267948966, min=-1.57079632679489…"
      ]
     },
     "metadata": {},
     "output_type": "display_data"
    }
   ],
   "source": [
    "from ipywidgets import interact, FloatSlider\n",
    "kwargs = {'q[{}]'.format(i) : \n",
    "          FloatSlider(\n",
    "              min = q_min[i], \n",
    "              max = q_max[i], \n",
    "              step = 0.01, \n",
    "              value = q[i]) \n",
    "          for i,q_1 in enumerate(q)}\n",
    "@interact(**kwargs)\n",
    "def update(**kwargs):\n",
    "    q = np.array([v  for v in kwargs.values()])\n",
    "    viz.display(q)\n",
    "    visualise_polytope(q)\n"
   ]
  }
 ],
 "metadata": {
  "kernelspec": {
   "display_name": "Python 3 (ipykernel)",
   "language": "python",
   "name": "python3"
  },
  "language_info": {
   "codemirror_mode": {
    "name": "ipython",
    "version": 3
   },
   "file_extension": ".py",
   "mimetype": "text/x-python",
   "name": "python",
   "nbconvert_exporter": "python",
   "pygments_lexer": "ipython3",
   "version": "3.11.9"
  }
 },
 "nbformat": 4,
 "nbformat_minor": 5
}
