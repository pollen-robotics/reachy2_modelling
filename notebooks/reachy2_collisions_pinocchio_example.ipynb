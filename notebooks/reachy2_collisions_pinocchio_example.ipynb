{
 "cells": [
  {
   "cell_type": "code",
   "execution_count": 5,
   "id": "8a440387-66ef-43df-b1be-5f7d21d7631a",
   "metadata": {},
   "outputs": [],
   "source": [
    "import pinocchio as pin\n",
    "import numpy as np\n",
    "import time\n",
    "import scipy\n",
    "from example_robot_data import load\n",
    "\n",
    "## visualise the robot\n",
    "from pinocchio.visualize import MeshcatVisualizer\n",
    "\n",
    "## visualise the polytope and the ellipsoid\n",
    "import meshcat.geometry as g \n",
    "\n",
    "# import pycapacity \n",
    "import pycapacity as pycap\n",
    "\n",
    "import meshcat"
   ]
  },
  {
   "cell_type": "code",
   "execution_count": 6,
   "id": "8fa6d1ce-2e64-424a-b37a-e1ba050034ca",
   "metadata": {},
   "outputs": [],
   "source": [
    "def computeCollisions(robot, geom_model, q, verbose = True):\n",
    "    geom_data = geom_model.createData()\n",
    "    has_collision = pin.computeCollisions(robot.model, robot.data, geom_model, geom_data, q, not verbose)\n",
    "    if verbose:\n",
    "        print(\"Has collision {}\".format(has_collision))\n",
    "        i = 0\n",
    "        for k in range(len(geom_model.collisionPairs)): \n",
    "          cr = geom_data.collisionResults[k]\n",
    "          cp = geom_model.collisionPairs[k]\n",
    "          if cr.isCollision():\n",
    "              i = i+1\n",
    "              print(\"collision pair:\",cp.first,\",\",cp.second,\"- collision:\",\"Yes\" if cr.isCollision() else \"No\")\n",
    "        print(i)\n",
    "    return has_collision"
   ]
  },
  {
   "cell_type": "code",
   "execution_count": 7,
   "id": "c3c16931-c201-4f8d-a66e-24775f08f4d7",
   "metadata": {},
   "outputs": [],
   "source": [
    "# use reachy's right arm with only 4 joints for now as they are the contribute \n",
    "# to its force capacity the most\n",
    "urdf_path = \"reachy_v3_fix.urdf\"\n",
    "robot = pin.RobotWrapper.BuildFromURDF(urdf_path)\n",
    "model, data = robot.model, robot.data\n",
    "# lock the other joints\n",
    "tolock = [\n",
    "   \"l_shoulder_pitch\",\n",
    "   \"l_shoulder_roll\",\n",
    "   \"l_elbow_yaw\",\n",
    "   \"l_elbow_pitch\",\n",
    "   \"l_wrist_roll\",\n",
    "   \"l_wrist_pitch\",\n",
    "   \"l_wrist_yaw\",\n",
    "   \"l_hand_finger\",\n",
    "   \"l_hand_finger_mimic\",\n",
    "   \"l_hand_finger_proximal\",\n",
    "   \"l_hand_finger_distal\",\n",
    "   \"l_hand_finger_proximal_mimic\",\n",
    "   \"l_hand_finger_distal_mimic\",\n",
    "   \"neck_roll\",\n",
    "   \"neck_pitch\",\n",
    "   \"neck_yaw\",\n",
    "   # \"r_shoulder_pitch\",\n",
    "   # \"r_shoulder_roll\",\n",
    "   # \"r_elbow_yaw\",\n",
    "   # \"r_elbow_pitch\",\n",
    "   # \"r_wrist_roll\",\n",
    "   # \"r_wrist_pitch\",\n",
    "   # \"r_wrist_yaw\",\n",
    "   \"r_hand_finger\",\n",
    "   \"r_hand_finger_mimic\",\n",
    "   \"r_hand_finger_proximal\",\n",
    "   \"r_hand_finger_distal\",\n",
    "   \"r_hand_finger_proximal_mimic\",\n",
    "   \"r_hand_finger_distal_mimic\",\n",
    "]\n",
    "\n",
    "# Get the ID of all existing joints\n",
    "jointsToLockIDs = []\n",
    "for jn in tolock:\n",
    "    if model.existJointName(jn):\n",
    "        jointsToLockIDs.append(model.getJointId(jn))\n",
    "robot.model, robot.collision_model = pin.buildReducedModel(model, robot.collision_model, jointsToLockIDs, np.zeros(robot.nq))\n",
    "model, data = robot.model, robot.data\n",
    "\n"
   ]
  },
  {
   "cell_type": "code",
   "execution_count": 8,
   "id": "a2c309df-7ad7-405d-8e81-2d5dc50766af",
   "metadata": {},
   "outputs": [
    {
     "name": "stdout",
     "output_type": "stream",
     "text": [
      "available collision objects\n",
      "0 base_link_0\n",
      "1 back_bar_0\n",
      "2 torso_0\n",
      "3 l_elbow_arm_link_0\n",
      "4 l_elbow_forearm_link_0\n",
      "5 l_wrist_link_0\n",
      "6 l_hand_palm_link_0\n",
      "7 l_hand_proximal_link_0\n",
      "8 l_hand_distal_link_0\n",
      "9 l_hand_proximal_mimic_link_0\n",
      "10 l_hand_distal_mimic_link_0\n",
      "11 head_0\n",
      "12 r_elbow_arm_link_0\n",
      "13 r_elbow_forearm_link_0\n",
      "14 r_wrist_link_0\n",
      "15 r_hand_palm_link_0\n",
      "16 r_hand_proximal_link_0\n",
      "17 r_hand_distal_link_0\n",
      "18 r_hand_proximal_mimic_link_0\n",
      "19 r_hand_distal_mimic_link_0\n",
      "20 left_bar_0\n",
      "21 right_bar_0\n"
     ]
    }
   ],
   "source": [
    "print(\"available collision objects\")\n",
    "for i, g in enumerate(robot.collision_model.geometryObjects):\n",
    "    print(i,g.name)"
   ]
  },
  {
   "cell_type": "code",
   "execution_count": 9,
   "id": "e1c2d4ca-9417-42bb-9d2a-2e612856953f",
   "metadata": {},
   "outputs": [
    {
     "name": "stdout",
     "output_type": "stream",
     "text": [
      "You can open the visualizer by visiting the following URL:\n",
      "http://127.0.0.1:7000/static/\n"
     ]
    }
   ],
   "source": [
    "viewer = meshcat.Visualizer()"
   ]
  },
  {
   "cell_type": "code",
   "execution_count": 11,
   "id": "71ec432b-c420-41af-b46c-2c42fcbd95ac",
   "metadata": {},
   "outputs": [],
   "source": [
    "robot.data = robot.model.createData()\n",
    "\n",
    "# get joint position ranges\n",
    "q_max = robot.model.upperPositionLimit.T\n",
    "q_min = robot.model.lowerPositionLimit.T\n",
    "# q_min = np.array([-np.pi, -3.07, -np.pi, -2.22,-np.pi/4,-np.pi/4,-np.pi])[:robot.nq]\n",
    "# q_max = np.array([np.pi, 0.54, np.pi, 0.02,np.pi/4,np.pi/4,np.pi])[:robot.nq]\n",
    "# robot.model.upperPositionLimit = q_max\n",
    "# robot.model.lowerPositionLimit = q_min\n",
    "dq_max = 5*np.ones(robot.nq)\n",
    "dq_min = -dq_max\n",
    "# get max velocity\n",
    "t_max = np.ones(robot.nq)*4 # amps\n",
    "t_min = -t_max\n",
    "\n",
    "# Use robot configuration.\n",
    "q = robot.q0[:robot.nq]\n",
    "# q = (q_min+q_max)/2\n",
    "\n",
    "model = robot.model\n",
    "data = robot.model.createData()\n",
    "geom_model = robot.collision_model\n",
    "for i in [0, 1, 2, 11, 20, 21]: # torso, head, 3x bars\n",
    "    # geom_model.addCollisionPair(pin.CollisionPair(i,3)) # left upper arm\n",
    "    # geom_model.addCollisionPair(pin.CollisionPair(i,4)) # left lower arm\n",
    "    # geom_model.addCollisionPair(pin.CollisionPair(i,5)) # left wrist\n",
    "    # geom_model.addCollisionPair(pin.CollisionPair(i,6)) # left palm\n",
    "    geom_model.addCollisionPair(pin.CollisionPair(i,12)) # right upper arm\n",
    "    geom_model.addCollisionPair(pin.CollisionPair(i,13)) #  right lower arm\n",
    "    geom_model.addCollisionPair(pin.CollisionPair(i,14)) #right  wrist\n",
    "    geom_model.addCollisionPair(pin.CollisionPair(i,15)) # left palm\n",
    "geom_data = pin.GeometryData(geom_model)\n",
    "robot.rebuildData()\n",
    "    \n",
    "\n",
    "viz = MeshcatVisualizer(robot.model, robot.collision_model, robot.collision_model)\n",
    "# Start a new MeshCat server and client.\n",
    "viz.initViewer(open=True, viewer = viewer)\n",
    "# Load the robot in the viewer.\n",
    "viz.loadViewerModel(\"reachy\")\n",
    "viz.display(q)\n",
    "# small time window for loading the model \n",
    "# if meshcat does not visualise the robot properly, augment the time\n",
    "# it can be removed in most cases\n",
    "time.sleep(0.2) \n",
    "viz.display_collisions = True"
   ]
  },
  {
   "cell_type": "code",
   "execution_count": 13,
   "id": "50def729-dc5d-4f86-a9a0-aa7fe6f5493b",
   "metadata": {},
   "outputs": [
    {
     "data": {
      "application/vnd.jupyter.widget-view+json": {
       "model_id": "684ee91d20324f779ded1491ef6e16eb",
       "version_major": 2,
       "version_minor": 0
      },
      "text/plain": [
       "interactive(children=(FloatSlider(value=0.0, description='\\tq[0]', layout=Layout(width='300px'), max=1.5707963…"
      ]
     },
     "metadata": {},
     "output_type": "display_data"
    }
   ],
   "source": [
    "from ipywidgets import interact, FloatSlider, Layout, Label\n",
    "\n",
    "kwargs = {\"\\tq[{}]\".format(i) : \n",
    "          FloatSlider(\n",
    "              min = q_min[i], \n",
    "              max = q_max[i], \n",
    "              step = 0.01, \n",
    "              value = q[i],\n",
    "          layout=Layout(width='300px'))\n",
    "          for i,q_1 in enumerate(q)}\n",
    "@interact(**kwargs)\n",
    "def update(**kwargs):\n",
    "    q = np.array([v  for v in kwargs.values()])\n",
    "    viz.display(q)\n",
    "    computeCollisions(robot, geom_model, q)"
   ]
  },
  {
   "cell_type": "code",
   "execution_count": null,
   "id": "14d34ded-e82b-4ee4-9ab5-2599f227e0ae",
   "metadata": {},
   "outputs": [],
   "source": []
  }
 ],
 "metadata": {
  "kernelspec": {
   "display_name": "Python 3 (ipykernel)",
   "language": "python",
   "name": "python3"
  },
  "language_info": {
   "codemirror_mode": {
    "name": "ipython",
    "version": 3
   },
   "file_extension": ".py",
   "mimetype": "text/x-python",
   "name": "python",
   "nbconvert_exporter": "python",
   "pygments_lexer": "ipython3",
   "version": "3.12.2"
  }
 },
 "nbformat": 4,
 "nbformat_minor": 5
}
