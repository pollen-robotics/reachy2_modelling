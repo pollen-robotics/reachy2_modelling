{
 "cells": [
  {
   "cell_type": "code",
   "execution_count": 1,
   "id": "6f87172b-afe0-444e-bf95-1ad2b3055d58",
   "metadata": {},
   "outputs": [],
   "source": [
    "import pinocchio as pin\n",
    "import numpy as np\n",
    "import time\n",
    "import scipy\n",
    "from example_robot_data import load\n",
    "\n",
    "## visualise the robot\n",
    "from pinocchio.visualize import MeshcatVisualizer\n",
    "\n",
    "## visualise the polytope and the ellipsoid\n",
    "import meshcat.geometry as g \n",
    "\n",
    "# import pycapacity \n",
    "import pycapacity as pycap"
   ]
  },
  {
   "cell_type": "code",
   "execution_count": 2,
   "id": "d1b7e24a-5a1a-4fcc-8229-36787d1832dc",
   "metadata": {},
   "outputs": [],
   "source": [
    "# use reachy's right arm with only 4 joints for now as they are the contribute \n",
    "# to its force capacity the most\n",
    "urdf_path = 'reachy.urdf'\n",
    "robot = pin.RobotWrapper.BuildFromURDF(urdf_path)\n",
    "model, data = robot.model, robot.data\n",
    "# lock the other joints\n",
    "tolock = [\n",
    "    'l_shoulder_pitch',\n",
    "    'l_shoulder_roll',\n",
    "    'l_elbow_yaw',\n",
    "    'l_elbow_pitch',\n",
    "    'l_wrist_roll',\n",
    "    'l_wrist_pitch',\n",
    "    'l_wrist_yaw',\n",
    "    'l_hand_finger',\n",
    "    'l_hand_finger_mimic',\n",
    "    # 'r_elbow_yaw',\n",
    "    # 'r_elbow_pitch'\n",
    "    # 'r_wrist_roll',\n",
    "    # 'r_wrist_pitch',,\n",
    "    # 'r_wrist_yaw',\n",
    "    'r_hand_finger',\n",
    "    'r_hand_finger_mimic',\n",
    "    'neck_roll',\n",
    "    'neck_pitch',\n",
    "    'neck_yaw',\n",
    "]\n",
    "\n",
    "# Get the ID of all existing joints\n",
    "jointsToLockIDs = []\n",
    "for jn in tolock:\n",
    "    if model.existJointName(jn):\n",
    "        jointsToLockIDs.append(model.getJointId(jn))\n",
    "robot.model = pin.buildReducedModel(model, jointsToLockIDs, np.zeros(21))\n",
    "model, data = robot.model, robot.data"
   ]
  },
  {
   "cell_type": "code",
   "execution_count": 6,
   "id": "fba564f4-4e74-4c4b-ad8a-753f9de06cce",
   "metadata": {},
   "outputs": [
    {
     "name": "stdout",
     "output_type": "stream",
     "text": [
      "You can open the visualizer by visiting the following URL:\n",
      "http://127.0.0.1:7005/static/\n"
     ]
    },
    {
     "data": {
      "text/html": [
       "\n",
       "            <div style=\"height: 400px; width: 100%; overflow-x: auto; overflow-y: hidden; resize: both\">\n",
       "            <iframe src=\"http://127.0.0.1:7005/static/\" style=\"width: 100%; height: 100%; border: none\"></iframe>\n",
       "            </div>\n",
       "            "
      ],
      "text/plain": [
       "<IPython.core.display.HTML object>"
      ]
     },
     "execution_count": 6,
     "metadata": {},
     "output_type": "execute_result"
    }
   ],
   "source": [
    "robot.data = robot.model.createData()\n",
    "\n",
    "# get joint position ranges\n",
    "# q_max = robot.model.upperPositionLimit.T\n",
    "# q_min = robot.model.lowerPositionLimit.T\n",
    "q_min = np.array([-np.pi, -2.9, -np.pi, -2.22,-np.pi/4,-np.pi/4,-np.pi])\n",
    "# q_max = np.array([np.pi, 0.55, np.pi, 0.02,np.pi/4,np.pi/4,np.pi])\n",
    "q_max = np.array([np.pi, 0, np.pi, 0.0,np.pi/4,np.pi/4,np.pi])\n",
    "robot.model.upperPositionLimit = q_max\n",
    "robot.model.lowerPositionLimit = q_min\n",
    "dq_max = np.ones(robot.nq)\n",
    "dq_min = -dq_max\n",
    "# get max velocity\n",
    "t_max = np.ones(robot.nq)*4 # amps\n",
    "t_min = -t_max\n",
    "\n",
    "# Use robot configuration.\n",
    "# q0 = np.random.uniform(q_min,q_max)\n",
    "q = (q_min+q_max)/2\n",
    "\n",
    "viz = MeshcatVisualizer(robot.model, robot.collision_model, robot.visual_model)\n",
    "# Start a new MeshCat server and client.\n",
    "viz.initViewer(open=True)\n",
    "# Load the robot in the viewer.\n",
    "viz.loadViewerModel()\n",
    "viz.display(q)\n",
    "# small time window for loading the model \n",
    "# if meshcat does not visualise the robot properly, augment the time\n",
    "# it can be removed in most cases\n",
    "time.sleep(0.2) \n",
    "\n",
    "viz.viewer.jupyter_cell()"
   ]
  },
  {
   "cell_type": "code",
   "execution_count": 4,
   "id": "658810ec-24d0-4ee6-8218-9088c9707471",
   "metadata": {
    "jupyter": {
     "source_hidden": true
    }
   },
   "outputs": [
    {
     "data": {
      "application/vnd.jupyter.widget-view+json": {
       "model_id": "d8b13d71b681492da8839896777f65ed",
       "version_major": 2,
       "version_minor": 0
      },
      "text/plain": [
       "interactive(children=(FloatSlider(value=0.0, description='q[0]', max=3.141592653589793, min=-3.141592653589793…"
      ]
     },
     "metadata": {},
     "output_type": "display_data"
    }
   ],
   "source": [
    "from ipywidgets import interact, FloatSlider\n",
    "kwargs = {'q[{}]'.format(i) : \n",
    "          FloatSlider(\n",
    "              min = q_min[i], \n",
    "              max = q_max[i], \n",
    "              step = 0.01, \n",
    "              value = q[i]) \n",
    "          for i,q_1 in enumerate(q)}\n",
    "@interact(**kwargs)\n",
    "def update(**kwargs):\n",
    "    q = np.array([v  for v in kwargs.values()])\n",
    "    viz.display(q)\n"
   ]
  },
  {
   "cell_type": "code",
   "execution_count": null,
   "id": "f66a33ad-3dea-4b47-b29a-15289b5b06d8",
   "metadata": {},
   "outputs": [],
   "source": [
    "import meshcat_shapes\n",
    "\n",
    "# import meshcat_shapes\n",
    "import numpy as np\n",
    "import qpsolvers\n",
    "\n",
    "import pink\n",
    "from pink import solve_ik\n",
    "from pink.tasks import FrameTask, PostureTask\n",
    "from pink.utils import custom_configuration_vector\n",
    "from pink.visualization import start_meshcat_visualizer\n",
    "\n",
    "end_effector_task = FrameTask(\n",
    "    \"r_arm_tip\",\n",
    "    position_cost=1.0,  # [cost] / [m]\n",
    "    orientation_cost=1.0,  # [cost] / [rad]\n",
    ")\n",
    "\n",
    "posture_task = PostureTask(\n",
    "    cost=1e-2,  # [cost] / [rad]\n",
    ")\n",
    "posture_task.set_target((q_min+q_max)/2)\n",
    "\n",
    "tasks = [end_effector_task, posture_task]\n",
    "\n",
    "configuration = pink.Configuration(robot.model, robot.data, q)\n",
    "for task in tasks:\n",
    "    task.set_target_from_configuration(configuration)\n",
    "\n",
    "viewer = viz.viewer\n",
    "meshcat_shapes.frame(viewer[\"end_effector_target\"], opacity=0.5)\n",
    "\n",
    "# Select QP solver\n",
    "solver = qpsolvers.available_solvers[0]\n",
    "if \"quadprog\" in qpsolvers.available_solvers:\n",
    "    solver = \"quadprog\"\n",
    "# rate = RateLimiter(frequency=200.0)\n",
    "dt = 0.01\n",
    "t = 0.0  # [s]\n",
    "while True:\n",
    "    # Update task targets\n",
    "    end_effector_target = end_effector_task.transform_target_to_world\n",
    "    end_effector_target.rotation = -np.eye(3)[:,[1,2,0]]\n",
    "    end_effector_target.translation = np.array([0.4,-0.15+0.1*np.cos(t),0.8+0.2*np.sin(t)])\n",
    "\n",
    "    # Update visualization frames\n",
    "    viewer[\"end_effector_target\"].set_transform(end_effector_target.np)\n",
    "\n",
    "    # Compute velocity and integrate it into next configuration\n",
    "    velocity = solve_ik(configuration, tasks, dt, solver=solver)\n",
    "    configuration.integrate_inplace(velocity, dt)\n",
    "\n",
    "    # Visualize result at fixed FPS\n",
    "    viz.display(configuration.q)\n",
    "    # rate.sleep()\n",
    "    t += dt\n"
   ]
  },
  {
   "cell_type": "code",
   "execution_count": null,
   "id": "a003bd84-8bb2-4c54-bf52-2973afb6ad2c",
   "metadata": {},
   "outputs": [],
   "source": []
  }
 ],
 "metadata": {
  "kernelspec": {
   "display_name": "Python 3 (ipykernel)",
   "language": "python",
   "name": "python3"
  },
  "language_info": {
   "codemirror_mode": {
    "name": "ipython",
    "version": 3
   },
   "file_extension": ".py",
   "mimetype": "text/x-python",
   "name": "python",
   "nbconvert_exporter": "python",
   "pygments_lexer": "ipython3",
   "version": "3.12.2"
  }
 },
 "nbformat": 4,
 "nbformat_minor": 5
}
